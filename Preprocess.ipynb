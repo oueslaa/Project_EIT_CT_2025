{
 "cells": [
  {
   "cell_type": "code",
   "execution_count": 79,
   "metadata": {},
   "outputs": [],
   "source": [
    "import os\n",
    "import sys\n",
    "import numpy as np\n",
    "import nibabel as nib\n",
    "import matplotlib\n",
    "import matplotlib.pyplot as plt\n",
    "import scipy.io\n",
    "\n",
    "# Ajouter dossier source\n",
    "sys.path.append(\"src\")\n",
    "from help_functions_Transform import *\n",
    "\n",
    "# === PARAMÈTRES ===\n",
    "case_id = \"s0011\"\n",
    "z_min, z_max = 201, 210\n",
    "seg_dir = f\"Data_set/{case_id}/segmentations\"\n",
    "ct_path = f\"Data_set/{case_id}/ct.nii.gz\"\n",
    "output_seg_dir = \"segmentation_slices\"\n",
    "merged_dir = \"merged_masks\"\n",
    "os.makedirs(output_seg_dir, exist_ok=True)\n",
    "os.makedirs(merged_dir, exist_ok=True)\n",
    "\n",
    "\n"
   ]
  },
  {
   "cell_type": "code",
   "execution_count": 80,
   "metadata": {},
   "outputs": [
    {
     "name": "stdout",
     "output_type": "stream",
     "text": [
      "Organes présents entre Z=201 et Z=210 :\n",
      " - iliopsoas_left\n",
      " - autochthon_right\n",
      " - rib_left_10\n",
      " - rib_left_12\n",
      " - aorta\n",
      " - stomach\n",
      " - gallbladder\n",
      " - duodenum\n",
      " - rib_right_12\n",
      " - inferior_vena_cava\n",
      " - costal_cartilages\n",
      " - small_bowel\n",
      " - colon\n",
      " - vertebrae_L2\n",
      " - kidney_left\n",
      " - rib_left_11\n",
      " - autochthon_left\n",
      " - pancreas\n",
      " - liver\n",
      " - vertebrae_L1\n",
      " - iliopsoas_right\n",
      " - spinal_cord\n",
      " - rib_right_11\n",
      " - kidney_right\n"
     ]
    }
   ],
   "source": [
    "# === FICHIERS SEGMENTÉS ===\n",
    "fichiers = [f for f in os.listdir(seg_dir) if f.endswith(\".nii.gz\")]\n",
    "ORGANS = { f.rsplit('.nii', 1)[0]: [f] for f in fichiers }\n",
    "\n",
    "# === DÉTECTION DES ORGANES PRÉSENTS DANS LES SLICES ===\n",
    "organs_presnt = organs_present_in_crop(seg_dir, z_min, z_max, ORGANS)\n",
    "print(f\"Organes présents entre Z={z_min} et Z={z_max} :\")\n",
    "for org in organs_presnt:\n",
    "    print(\" -\", org)\n",
    "\n"
   ]
  },
  {
   "cell_type": "code",
   "execution_count": 81,
   "metadata": {},
   "outputs": [
    {
     "name": "stdout",
     "output_type": "stream",
     "text": [
      "Groupe 'ilio' fusionné à partir de 2 organes.\n",
      "Groupe 'auto' fusionné à partir de 2 organes.\n",
      "Groupe 'rib_' fusionné à partir de 5 organes.\n",
      "Groupe 'aort' fusionné à partir de 1 organes.\n",
      "Groupe 'stom' fusionné à partir de 1 organes.\n",
      "Groupe 'gall' fusionné à partir de 1 organes.\n",
      "Groupe 'duod' fusionné à partir de 1 organes.\n",
      "Groupe 'infe' fusionné à partir de 1 organes.\n",
      "Groupe 'cost' fusionné à partir de 1 organes.\n",
      "Groupe 'smal' fusionné à partir de 1 organes.\n",
      "Groupe 'colo' fusionné à partir de 1 organes.\n",
      "Groupe 'vert' fusionné à partir de 2 organes.\n",
      "Groupe 'kidn' fusionné à partir de 2 organes.\n",
      "Groupe 'panc' fusionné à partir de 1 organes.\n",
      "Groupe 'live' fusionné à partir de 1 organes.\n",
      "Groupe 'spin' fusionné à partir de 1 organes.\n",
      "Groupe 'soft' fusionné à partir de 1 organes.\n",
      "\n",
      "✅ 17 groupes fusionnés enregistrés dans 'merged_masks'\n"
     ]
    }
   ],
   "source": [
    "# === CHARGER LES MASQUES DÉTECTÉS ===\n",
    "masks = {}\n",
    "for org in organs_presnt:\n",
    "    filename = ORGANS[org][0]\n",
    "    img = nib.load(os.path.join(seg_dir, filename))\n",
    "    data = img.get_fdata()\n",
    "    mask_crop = data[:, :, z_min:z_max+1]\n",
    "    masks[org] = nib.Nifti1Image(mask_crop, affine=img.affine)\n",
    "\n",
    "# === AJOUT DU SOFT TISSUE ===\n",
    "mask3d = Get_soft_tissue_mask(case_id, organs_presnt, ORGANS)\n",
    "soft_tissue = mask3d[0][:, :, z_min:z_max+1]\n",
    "ref_affine = nib.load(os.path.join(seg_dir, ORGANS[organs_presnt[0]][0])).affine\n",
    "masks['soft_tissue'] = nib.Nifti1Image(soft_tissue.astype(np.uint8), affine=ref_affine)\n",
    "\n",
    "# === GROUPEMENT DES MASQUES PAR PRÉFIXE (soft → 'soft') ===\n",
    "groups = {}\n",
    "for org in masks:\n",
    "    key = 'soft' if org == 'soft_tissue' else org[:4]\n",
    "    groups.setdefault(key, []).append(org)\n",
    "\n",
    "# === FUSION DES MASQUES PAR GROUPE ===\n",
    "merged_masks = {}\n",
    "for key, organ_list in groups.items():\n",
    "    imgs = [masks[org].get_fdata() for org in organ_list]\n",
    "    merged_data = np.zeros_like(imgs[0], dtype=bool)\n",
    "    for arr in imgs:\n",
    "        merged_data |= (arr > 0)\n",
    "    affine = masks[organ_list[0]].affine\n",
    "    merged_masks[key] = nib.Nifti1Image(merged_data.astype(np.uint8), affine=affine)\n",
    "    nib.save(merged_masks[key], os.path.join(merged_dir, f\"{key}_mask_z{z_min}_{z_max}.nii.gz\"))\n",
    "    print(f\"Groupe '{key}' fusionné à partir de {len(organ_list)} organes.\")\n",
    "\n",
    "print(f\"\\n✅ {len(merged_masks)} groupes fusionnés enregistrés dans '{merged_dir}'\")\n",
    "\n"
   ]
  },
  {
   "cell_type": "code",
   "execution_count": 82,
   "metadata": {},
   "outputs": [
    {
     "name": "stdout",
     "output_type": "stream",
     "text": [
      "✅ Images segmentées enregistrées dans 'segmentation_slices' pour les slices 201 à 210\n"
     ]
    }
   ],
   "source": [
    "# === ATTRIBUTION DES COULEURS PAR GROUPE (tab20) ===\n",
    "keys = list(merged_masks.keys())\n",
    "cmap = matplotlib.colormaps.get_cmap('tab20')\n",
    "group_colors = { key: cmap(i / len(keys)) for i, key in enumerate(keys) }\n",
    "\n",
    "# === AFFICHAGE ET SAUVEGARDE DES IMAGES COLORÉES PAR SLICE ===\n",
    "data0 = merged_masks[keys[0]].get_fdata()\n",
    "h, w, d = data0.shape\n",
    "for slice_idx in range(z_min, z_max+1):\n",
    "    slice_local = slice_idx - z_min\n",
    "    seg_img = np.zeros((h, w, 4), dtype=float)\n",
    "\n",
    "    for key, img in merged_masks.items():\n",
    "        mask_data = img.get_fdata()\n",
    "        slice_mask = mask_data[:, :, slice_local] > 0\n",
    "        color = group_colors[key]\n",
    "        for c in range(4):\n",
    "            seg_img[..., c][slice_mask] = color[c]\n",
    "\n",
    "    fig, ax = plt.subplots(figsize=(5, 5))\n",
    "    ax.imshow(seg_img)\n",
    "    ax.axis('off')\n",
    "    out_path = os.path.join(output_seg_dir, f\"segmented_slice_{slice_idx}.png\")\n",
    "    fig.savefig(out_path, bbox_inches='tight', pad_inches=0)\n",
    "    plt.close(fig)\n",
    "\n",
    "print(f\"✅ Images segmentées enregistrées dans '{output_seg_dir}' pour les slices {z_min} à {z_max}\")\n",
    "\n"
   ]
  },
  {
   "cell_type": "code",
   "execution_count": 83,
   "metadata": {},
   "outputs": [
    {
     "name": "stdout",
     "output_type": "stream",
     "text": [
      "✅ Couleurs sauvegardées dans 'group_colors.mat'\n"
     ]
    }
   ],
   "source": [
    "# === SAUVEGARDE DES COULEURS ===\n",
    "group_names = list(group_colors.keys())\n",
    "rgb = np.array([group_colors[k][:3] for k in group_names])\n",
    "scipy.io.savemat('group_colors.mat', {\n",
    "    'group_names': group_names,\n",
    "    'rgb_colors': rgb\n",
    "})\n",
    "print(\"✅ Couleurs sauvegardées dans 'group_colors.mat'\")"
   ]
  }
 ],
 "metadata": {
  "kernelspec": {
   "display_name": "Python (jupyter-env)",
   "language": "python",
   "name": "myenv"
  },
  "language_info": {
   "codemirror_mode": {
    "name": "ipython",
    "version": 3
   },
   "file_extension": ".py",
   "mimetype": "text/x-python",
   "name": "python",
   "nbconvert_exporter": "python",
   "pygments_lexer": "ipython3",
   "version": "3.13.5"
  }
 },
 "nbformat": 4,
 "nbformat_minor": 2
}
